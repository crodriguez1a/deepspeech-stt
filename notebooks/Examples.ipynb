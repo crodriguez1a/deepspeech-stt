{
 "cells": [
  {
   "cell_type": "code",
   "execution_count": 1,
   "metadata": {},
   "outputs": [],
   "source": [
    "%load_ext autoreload\n",
    "%autoreload 2"
   ]
  },
  {
   "cell_type": "code",
   "execution_count": 2,
   "metadata": {},
   "outputs": [],
   "source": [
    "import os\n",
    "import sys\n",
    "module_path = os.path.abspath(os.path.join('..'))\n",
    "if module_path not in sys.path:\n",
    "    sys.path.append(module_path)"
   ]
  },
  {
   "cell_type": "code",
   "execution_count": 3,
   "metadata": {},
   "outputs": [
    {
     "name": "stdout",
     "output_type": "stream",
     "text": [
      "env: MODEL_PATH=../model/deepspeech-0.7.4-models.pbmm\n"
     ]
    }
   ],
   "source": [
    "%env MODEL_PATH=../model/deepspeech-0.7.4-models.pbmm"
   ]
  },
  {
   "cell_type": "code",
   "execution_count": 4,
   "metadata": {},
   "outputs": [],
   "source": [
    "from src.deepspeech_tts import deepspeech_predict"
   ]
  },
  {
   "cell_type": "code",
   "execution_count": 5,
   "metadata": {},
   "outputs": [],
   "source": [
    "vf_samples = [\n",
    "    (\"samples/voxforge/vf5-11.wav\", \"when you come back in a few days bring eileen\"),\n",
    "    (\"samples/voxforge/vf5-12.wav\", \"gregson has left the outer door slightly ajar\"),\n",
    "    (\"samples/voxforge/vf5-13.wav\", \"the date was nearly thirteen years old\"),\n",
    "    (\"samples/voxforge/vf5-14.wav\", \"the were the pressage of storm\"),\n",
    "    (\"samples/voxforge/vf5-15.wav\", \"down there the earth was already swelling with life\")\n",
    "]"
   ]
  },
  {
   "cell_type": "code",
   "execution_count": 6,
   "metadata": {},
   "outputs": [],
   "source": [
    "def jaccard(str1, str2): \n",
    "    a = set(str1.lower().split()) \n",
    "    b = set(str2.lower().split())\n",
    "    c = a.intersection(b)\n",
    "    return float(len(c)) / (len(a) + len(b) - len(c))"
   ]
  },
  {
   "cell_type": "code",
   "execution_count": 7,
   "metadata": {},
   "outputs": [
    {
     "name": "stdout",
     "output_type": "stream",
     "text": [
      "Ground Truth:  when you come back in a few days bring eileen\n",
      "Prediction:    when you come back and a few days bring ileen\n",
      "Jaccard Score: 0.6666666666666666\n",
      "\n",
      "Ground Truth:  gregson has left the outer door slightly ajar\n",
      "Prediction:    greaks ten has left the outer door slagte me ajar\n",
      "Jaccard Score: 0.5\n",
      "\n",
      "Ground Truth:  the date was nearly thirteen years old\n",
      "Prediction:    they de was nearly thirteen years old\n",
      "Jaccard Score: 0.5555555555555556\n",
      "\n",
      "Ground Truth:  the were the pressage of storm\n",
      "Prediction:    they were the pressage of storm\n",
      "Jaccard Score: 0.8333333333333334\n",
      "\n",
      "Ground Truth:  down there the earth was already swelling with life\n",
      "Prediction:    i on there so you're wasalready swelling with life\n",
      "Jaccard Score: 0.2857142857142857\n",
      "\n"
     ]
    }
   ],
   "source": [
    "for s, gt in vf_samples:\n",
    "    print(\"Ground Truth: \", gt)\n",
    "    y_pred = deepspeech_predict(s)\n",
    "    print(\"Prediction:   \", y_pred)\n",
    "    print(\"Jaccard Score:\", jaccard(gt, y_pred))\n",
    "    print(\"\")"
   ]
  },
  {
   "cell_type": "code",
   "execution_count": null,
   "metadata": {},
   "outputs": [],
   "source": []
  }
 ],
 "metadata": {
  "kernelspec": {
   "display_name": "Python 3",
   "language": "python",
   "name": "python3"
  },
  "language_info": {
   "codemirror_mode": {
    "name": "ipython",
    "version": 3
   },
   "file_extension": ".py",
   "mimetype": "text/x-python",
   "name": "python",
   "nbconvert_exporter": "python",
   "pygments_lexer": "ipython3",
   "version": "3.7.5"
  }
 },
 "nbformat": 4,
 "nbformat_minor": 4
}
